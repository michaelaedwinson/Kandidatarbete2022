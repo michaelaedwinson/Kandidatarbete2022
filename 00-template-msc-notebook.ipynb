{
 "cells": [
  {
   "cell_type": "markdown",
   "id": "11fe3ac5-1da2-4cd3-aff6-a34d050d3c41",
   "metadata": {},
   "source": [
    "Packages"
   ]
  },
  {
   "cell_type": "code",
   "execution_count": 1,
   "id": "7c3db9e1-7ed5-41fb-bc3f-381a0588940d",
   "metadata": {
    "jupyter": {
     "source_hidden": true
    }
   },
   "outputs": [],
   "source": [
    "import pathlib\n",
    "from pathlib import Path\n",
    "import os \n",
    "\n",
    "import matplotlib.dates as mdates\n",
    "import numpy as np\n",
    "import pandas as pd\n",
    "import matplotlib.pyplot as plt\n",
    "import xarray as xr\n",
    "import gsw\n",
    "import cmocean as cmo\n",
    "import scipy\n",
    "from scipy import stats\n",
    "import netCDF4\n",
    "from netCDF4 import Dataset as nc\n",
    "import cartopy.crs as ccrs\n",
    "import matplotlib\n",
    "import seaborn as sns\n",
    "\n",
    "from AirSeaFluxCode import AirSeaFluxCode\n",
    "\n",
    "import warnings\n",
    "warnings.filterwarnings('ignore')\n",
    "\n",
    "from sklearn.metrics import mean_squared_error\n",
    "import math\n",
    "\n",
    "font = {'weight' : 'normal',\n",
    "        'size'  : 20}\n",
    "matplotlib.rc('font', **font)"
   ]
  },
  {
   "cell_type": "markdown",
   "id": "321024de-592c-4c17-a218-e7027a54f8e7",
   "metadata": {},
   "source": [
    "Functions"
   ]
  },
  {
   "cell_type": "code",
   "execution_count": 2,
   "id": "7e7cd6e7-4849-41b1-a172-6e1170bc61d9",
   "metadata": {
    "jupyter": {
     "source_hidden": true
    }
   },
   "outputs": [],
   "source": [
    "import math\n",
    "def wind_sp_kt_to_ms(wind_kts):\n",
    "    \n",
    "    return wind_kts*0.514444  #kt to m/s\n",
    "\n",
    "def wind_sp_to_10m(wind_sp, z0=1.52e-4, zm=3.4, z10=10):\n",
    "    \n",
    "    \"\"\"Correct wind speed data from a given height to 10m above sea level.\n",
    "\n",
    "       wind_sp = wind speed measurement (m/s)\n",
    "       z0      = roughness length\n",
    "       zm      = height of wind measurement\n",
    "       z10     = height to correct to\n",
    "    \"\"\"\n",
    "    \n",
    "    return wind_sp*(math.log(z10/z0)/math.log(zm/z0))\n",
    "\n",
    "def wind_direction(v, u):\n",
    "    DIR=90-np.rad2deg(np.arctan(v / u) )\n",
    "    return DIR\n",
    "\n",
    "from tqdm import tqdm  # Assuming you're using the tqdm library for progress tracking\n",
    "\n",
    "def colocate_era5_sd(sd, era5, var):\n",
    "    \"\"\"\n",
    "    Colocates ERA5 data with Shipboard Data (SD) based on time, latitude, and longitude.\n",
    "\n",
    "    Args:\n",
    "    - sd (xarray.Dataset): Shipboard Data with time, longitude, and latitude dimensions.\n",
    "    - era5 (xarray.Dataset): ERA5 data with time, longitude, and latitude dimensions.\n",
    "    - var (str): The variable to be colocated.\n",
    "\n",
    "    Returns:\n",
    "    - era5_var (numpy.ndarray): An array of ERA5 variable values colocated with SD.\n",
    "    \"\"\"\n",
    "\n",
    "    # Initialize an empty array to store ERA5 variable values\n",
    "    era5_var = np.ndarray(sd.time.size)\n",
    "\n",
    "    # Iterate through each time step in Shipboard Data (SD)\n",
    "    for t in tqdm(range(sd.time.size)):\n",
    "\n",
    "        # Find the matching time index in ERA5 data\n",
    "        idx = sd.time[t] == era5.time\n",
    "\n",
    "        # Find the latitude and longitude indices in ERA5 data that are closest to SD coordinates\n",
    "        lon_idx = np.argmin(np.abs(sd.longitude.data[t] - era5.longitude.data))\n",
    "        lat_idx = np.argmin(np.abs(sd.latitude.data[t] - era5.latitude.data))\n",
    "\n",
    "        # Extract and store the ERA5 variable value for the matching time and location\n",
    "        era5_var[t] = era5[var].isel(time=idx, latitude=lat_idx, longitude=lon_idx).data\n",
    "\n",
    "    return era5_var\n",
    "\n",
    "def era5dewtorh(era5_ds):\n",
    "    # Extract dew point temperature (Dp) values from the input dataset\n",
    "    Dp = era5_ds.d2m.values-273.15 # dew point temperature in celsius\n",
    "\n",
    "    # Extract air temperature (T) values from the input dataset, and convert to celsius\n",
    "    T = era5_ds.t2m.values # temperature in celsius\n",
    "    \n",
    "    # Calculate relative humidity (RH) using the formula and add it to the input dataset\n",
    "    era5_ds['rh'] = (('time', 'latitude', 'longitude'),\n",
    "                     100 * (np.exp((17.625 * Dp) / (243.04 + Dp)) / np.exp((17.625 * T) / (243.04 + T))))\n",
    "    \n",
    "    # Return the input dataset with the 'rh' variable added\n",
    "    return era5_ds\n",
    "\n",
    "def dist_era5_sd(sd, era5):\n",
    "    \"\"\"\n",
    "    Colocates ERA5 data with Shipboard Data (SD) based on time, latitude, and longitude.\n",
    "\n",
    "    Args:\n",
    "    - sd (xarray.Dataset): Shipboard Data with time, longitude, and latitude dimensions.\n",
    "    - era5 (xarray.Dataset): ERA5 data with time, longitude, and latitude dimensions.\n",
    "\n",
    "    Returns:\n",
    "    - dist (numpy.ndarray): An array of distance in meters between nearest ERA5 gridpoint and SD.\n",
    "    \"\"\"\n",
    "\n",
    "    # Initialize an empty array to store ERA5 variable values\n",
    "    dist = np.ndarray(sd.time.size)\n",
    "    #time = np.ndarray(sd.time.size)\n",
    "    # Iterate through each time step in Shipboard Data (SD)\n",
    "    for t in tqdm(range(sd.time.size)):\n",
    "\n",
    "        # Find the matching time index in ERA5 data\n",
    "        idx = sd.time[t] == era5.time\n",
    "\n",
    "        # Find the latitude and longitude indices in ERA5 data that are closest to SD coordinates\n",
    "        lon_idx = np.argmin(np.abs(sd.longitude.data[t] - era5.longitude.data))\n",
    "        lat_idx = np.argmin(np.abs(sd.latitude.data[t] - era5.latitude.data))\n",
    "\n",
    "        # Extract and store the ERA5 variable value for the matching time and location\n",
    "        dist[t] = gsw.distance([era5.isel(time=idx, latitude=lat_idx, longitude=lon_idx)['longitude'].data, sd.longitude[t]],[era5.isel(time=idx, latitude=lat_idx, longitude=lon_idx)['latitude'].data, sd.latitude[t]]) \n",
    "        \n",
    "        #dist[t]= (((era5.latitude[lat_idx]-sd.latitude[lat_idx])**2)+((era5.longitude[lon_idx]-sd.longitude[lon_idx])**2))**0.5\n",
    "        #time[t] = era5.isel(time=idx, latitude=lat_idx, longitude=lon_idx)['time']\n",
    "        \n",
    "        \n",
    "    return dist"
   ]
  },
  {
   "cell_type": "markdown",
   "id": "ca352b5d-92f1-41d1-9bec-0694fd3a8f79",
   "metadata": {},
   "source": [
    "Load datasets"
   ]
  },
  {
   "cell_type": "code",
   "execution_count": 3,
   "id": "4e2f6a26-7479-4575-a86d-7c4671bc7819",
   "metadata": {},
   "outputs": [],
   "source": [
    "ds=xr.open_dataset( pathlib.Path('.').absolute().parent/ 'MTmichaela/MasterH23/ds.nc')\n",
    "ERA5=xr.open_dataset(pathlib.Path('.').absolute().parent/'MTmichaela/MasterH23/ERA5file.nc')\n",
    "coloc3=pd.read_csv(pathlib.Path('.').absolute().parent/'MTmichaela/MasterH23/coloc3.csv') #open coloc3\n",
    "dsadcpH=xr.open_dataset(pathlib.Path('.').absolute().parent/'MTmichaela/MasterH23/dsadcpH.nc')\n",
    "ostia=xr.open_dataset(pathlib.Path('.').absolute().parent/'MTmichaela/MasterH23/ostia.nc')\n",
    "ERA5big=xr.open_dataset(pathlib.Path('.').absolute().parent/ 'MTmichaela/MasterH23/ERA5big.nc')"
   ]
  },
  {
   "cell_type": "code",
   "execution_count": null,
   "id": "8ec98936-9b49-4f56-b3dc-aacecdcc5723",
   "metadata": {},
   "outputs": [],
   "source": []
  }
 ],
 "metadata": {
  "kernelspec": {
   "display_name": "Python 3 (ipykernel)",
   "language": "python",
   "name": "python3"
  },
  "language_info": {
   "codemirror_mode": {
    "name": "ipython",
    "version": 3
   },
   "file_extension": ".py",
   "mimetype": "text/x-python",
   "name": "python",
   "nbconvert_exporter": "python",
   "pygments_lexer": "ipython3",
   "version": "3.12.0"
  }
 },
 "nbformat": 4,
 "nbformat_minor": 5
}
